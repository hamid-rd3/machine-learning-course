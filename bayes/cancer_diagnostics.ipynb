{
 "cells": [
  {
   "cell_type": "code",
   "execution_count": 107,
   "id": "37993ef7",
   "metadata": {},
   "outputs": [],
   "source": [
    "import os,pathlib\n",
    "import numpy as np\n",
    "import pandas as pd\n",
    "from sklearn.model_selection import train_test_split\n",
    "from sklearn.naive_bayes import GaussianNB, CategoricalNB\n",
    "from sklearn.model_selection import cross_val_score\n",
    "from sklearn.metrics import confusion_matrix, ConfusionMatrixDisplay\n",
    "import matplotlib.pyplot as plt\n",
    "from sklearn.model_selection import StratifiedShuffleSplit\n",
    "\n",
    "DATA_DIR = pathlib.Path('./data/')\n"
   ]
  },
  {
   "cell_type": "code",
   "execution_count": 108,
   "id": "34877b38",
   "metadata": {},
   "outputs": [
    {
     "data": {
      "text/plain": [
       "((683, 9), (683,))"
      ]
     },
     "execution_count": 108,
     "metadata": {},
     "output_type": "execute_result"
    }
   ],
   "source": [
    "data = pd.read_csv(os.path.join(DATA_DIR, 'BreastCancer.csv'))\n",
    "y_data = data['Class']\n",
    "data.drop('Class', axis=1, inplace=True)\n",
    "\n",
    "#sample number does not help training \n",
    "data = data.drop('Sample code number', axis=1)\n",
    "data.shape,y_data.shape"
   ]
  },
  {
   "cell_type": "markdown",
   "id": "41234c99",
   "metadata": {},
   "source": [
    "### split train and test"
   ]
  },
  {
   "cell_type": "code",
   "execution_count": 109,
   "id": "fee9ad12",
   "metadata": {},
   "outputs": [
    {
     "name": "stdout",
     "output_type": "stream",
     "text": [
      "(512, 9) (171, 9) (512,) (171,)\n"
     ]
    }
   ],
   "source": [
    "X_train, X_test,y_train, y_test = train_test_split(\n",
    "    data,\n",
    "    y_data,\n",
    "    shuffle=True,\n",
    "    test_size=0.25,\n",
    "    stratify=y_data,\n",
    "    random_state=10)\n",
    "print(X_train.shape,X_test.shape,y_train.shape, y_test.shape)\n",
    "model=CategoricalNB()\n"
   ]
  },
  {
   "cell_type": "markdown",
   "id": "ce9765c3",
   "metadata": {},
   "source": [
    "### cross validation score"
   ]
  },
  {
   "cell_type": "code",
   "execution_count": 110,
   "id": "fd0144f1",
   "metadata": {},
   "outputs": [
    {
     "data": {
      "text/plain": [
       "array([0.97087379, 1.        , 0.96078431, 0.95098039, 0.99019608])"
      ]
     },
     "execution_count": 110,
     "metadata": {},
     "output_type": "execute_result"
    }
   ],
   "source": [
    "scores = cross_val_score(model, X_train, y_train, cv=5)\n",
    "scores"
   ]
  },
  {
   "cell_type": "markdown",
   "id": "7fe422ed",
   "metadata": {},
   "source": [
    "### accuracy of model "
   ]
  },
  {
   "cell_type": "code",
   "execution_count": 111,
   "id": "ca8bfaa3",
   "metadata": {},
   "outputs": [
    {
     "name": "stdout",
     "output_type": "stream",
     "text": [
      "accuracy : 0.97\n"
     ]
    }
   ],
   "source": [
    "model.fit(X_train, y_train)\n",
    "print('accuracy : %.2f' %model.score(X_test, y_test))\n"
   ]
  },
  {
   "cell_type": "markdown",
   "id": "9ee5922a",
   "metadata": {},
   "source": [
    "### confusion matrix display "
   ]
  },
  {
   "cell_type": "code",
   "execution_count": 112,
   "id": "e7257532",
   "metadata": {},
   "outputs": [
    {
     "data": {
      "image/png": "[encoded data removed]",
      "text/plain": [
       "<Figure size 432x288 with 2 Axes>"
      ]
     },
     "metadata": {
      "needs_background": "light"
     },
     "output_type": "display_data"
    }
   ],
   "source": [
    "y_pred = model.predict(X_test)\n",
    "\n",
    "ConfusionM = confusion_matrix(y_test, y_pred)\n",
    "\n",
    "ConfusionMatrixDisplay(confusion_matrix=ConfusionM,\n",
    "                                 display_labels=model.classes_).plot()\n",
    "plt.show()"
   ]
  },
  {
   "cell_type": "markdown",
   "id": "62e51334",
   "metadata": {},
   "source": [
    "## Gaussian naive bayes"
   ]
  },
  {
   "cell_type": "code",
   "execution_count": 113,
   "id": "b0bc5e4c",
   "metadata": {},
   "outputs": [
    {
     "name": "stdout",
     "output_type": "stream",
     "text": [
      "[0.96116505 0.99029126 0.93137255 0.97058824 0.97058824]\n",
      "accuracy : 0.96\n"
     ]
    },
    {
     "data": {
      "image/png": "[encoded data removed]",
      "text/plain": [
       "<Figure size 432x288 with 2 Axes>"
      ]
     },
     "metadata": {
      "needs_background": "light"
     },
     "output_type": "display_data"
    }
   ],
   "source": [
    "model = GaussianNB()\n",
    "\n",
    "# cross validation score\n",
    "scores = cross_val_score(model, X_train, y_train, cv=5)\n",
    "print(scores)\n",
    "#accuracy of model\n",
    "model.fit(X_train, y_train)\n",
    "print('accuracy : %.2f' %model.score(X_test, y_test))\n",
    "\n",
    "y_pred = model.predict(X_test)\n",
    "\n",
    "ConfusionM = confusion_matrix(y_test, y_pred)\n",
    "\n",
    "ConfusionMatrixDisplay(confusion_matrix=ConfusionM,\n",
    "                                 display_labels=model.classes_).plot()\n",
    "plt.show()"
   ]
  },
  {
   "cell_type": "markdown",
   "id": "309ecd9b",
   "metadata": {},
   "source": [
    "## stratified randomized folds"
   ]
  },
  {
   "cell_type": "markdown",
   "id": "9fda02ec",
   "metadata": {},
   "source": [
    "### The folds are made by preserving the percentage of samples for each class"
   ]
  },
  {
   "cell_type": "code",
   "execution_count": 115,
   "id": "8aaeb6a5",
   "metadata": {},
   "outputs": [
    {
     "name": "stdout",
     "output_type": "stream",
     "text": [
      "Fold 0:\n",
      "accuracy : 0.96\n"
     ]
    },
    {
     "data": {
      "image/png": "[encoded data removed]",
      "text/plain": [
       "<Figure size 432x288 with 2 Axes>"
      ]
     },
     "metadata": {
      "needs_background": "light"
     },
     "output_type": "display_data"
    },
    {
     "name": "stdout",
     "output_type": "stream",
     "text": [
      "Fold 1:\n",
      "accuracy : 0.98\n"
     ]
    },
    {
     "data": {
      "image/png": "[encoded data removed]",
      "text/plain": [
       "<Figure size 432x288 with 2 Axes>"
      ]
     },
     "metadata": {
      "needs_background": "light"
     },
     "output_type": "display_data"
    },
    {
     "name": "stdout",
     "output_type": "stream",
     "text": [
      "Fold 2:\n",
      "accuracy : 0.98\n"
     ]
    },
    {
     "data": {
      "image/png": "[encoded data removed]",
      "text/plain": [
       "<Figure size 432x288 with 2 Axes>"
      ]
     },
     "metadata": {
      "needs_background": "light"
     },
     "output_type": "display_data"
    },
    {
     "name": "stdout",
     "output_type": "stream",
     "text": [
      "Fold 3:\n",
      "accuracy : 0.97\n"
     ]
    },
    {
     "data": {
      "image/png": "[encoded data removed]",
      "text/plain": [
       "<Figure size 432x288 with 2 Axes>"
      ]
     },
     "metadata": {
      "needs_background": "light"
     },
     "output_type": "display_data"
    },
    {
     "name": "stdout",
     "output_type": "stream",
     "text": [
      "Fold 4:\n",
      "accuracy : 0.98\n"
     ]
    },
    {
     "data": {
      "image/png": "[encoded data removed]",
      "text/plain": [
       "<Figure size 432x288 with 2 Axes>"
      ]
     },
     "metadata": {
      "needs_background": "light"
     },
     "output_type": "display_data"
    }
   ],
   "source": [
    "sss = StratifiedShuffleSplit(n_splits=5, test_size=0.25, random_state=2)\n",
    "sss.get_n_splits(data, y_data)\n",
    "for i, (train_index, test_index) in enumerate(sss.split(data, y_data)):\n",
    "    print(f\"Fold {i}:\")\n",
    "    X_train, X_test = data.loc[train_index], data.loc[test_index]\n",
    "    y_train, y_test = y_data.loc[train_index], y_data.loc[test_index]\n",
    "    \n",
    "    model=CategoricalNB()\n",
    "\n",
    "    model.fit(X_train, y_train)\n",
    "    print('accuracy : %.2f' %model.score(X_test, y_test))\n",
    "\n",
    "    y_pred = model.predict(X_test)\n",
    "\n",
    "    ConfusionM = confusion_matrix(y_test, y_pred)\n",
    "\n",
    "    ConfusionMatrixDisplay(confusion_matrix=ConfusionM,\n",
    "                                     display_labels=model.classes_).plot()\n",
    "    \n",
    "    plt.show()"
   ]
  },
  {
   "cell_type": "code",
   "execution_count": null,
   "id": "d8024762",
   "metadata": {},
   "outputs": [],
   "source": []
  },
  {
   "cell_type": "code",
   "execution_count": null,
   "id": "d94b0006",
   "metadata": {},
   "outputs": [],
   "source": []
  }
 ],
 "metadata": {
  "kernelspec": {
   "display_name": "Python 3",
   "language": "python",
   "name": "python3"
  },
  "language_info": {
   "codemirror_mode": {
    "name": "ipython",
    "version": 3
   },
   "file_extension": ".py",
   "mimetype": "text/x-python",
   "name": "python",
   "nbconvert_exporter": "python",
   "pygments_lexer": "ipython3",
   "version": "3.8.8"
  }
 },
 "nbformat": 4,
 "nbformat_minor": 5
}
