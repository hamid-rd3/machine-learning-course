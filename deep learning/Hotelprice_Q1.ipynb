{
 "cells": [
  {
   "cell_type": "markdown",
   "metadata": {},
   "source": [
    "# MLP implementarion "
   ]
  },
  {
   "cell_type": "markdown",
   "metadata": {},
   "source": [
    "## Import libraries"
   ]
  },
  {
   "cell_type": "code",
   "execution_count": 1,
   "metadata": {},
   "outputs": [],
   "source": [
    "import os, pathlib\n",
    "import tensorflow as tf\n",
    "from tensorflow import keras\n",
    "import matplotlib.pyplot as plt\n",
    "import numpy as np\n",
    "import pandas as pd\n",
    "from tensorflow.keras import models, layers\n",
    "from sklearn.preprocessing import OneHotEncoder\n",
    "from sklearn.ensemble import RandomForestRegressor\n"
   ]
  },
  {
   "cell_type": "markdown",
   "metadata": {},
   "source": [
    "## data preprocessing "
   ]
  },
  {
   "cell_type": "markdown",
   "metadata": {},
   "source": [
    "### Split train,test data into X and Y"
   ]
  },
  {
   "cell_type": "code",
   "execution_count": 2,
   "metadata": {},
   "outputs": [
    {
     "data": {
      "text/plain": [
       "((40060, 27), (79330, 27))"
      ]
     },
     "execution_count": 2,
     "metadata": {},
     "output_type": "execute_result"
    }
   ],
   "source": [
    "train_data = pd.read_csv('./data/H1.csv')\n",
    "train_targets = train_data['ADR']\n",
    "train_data.drop(inplace=True,columns=['ADR'])\n",
    "\n",
    "test_data = pd.read_csv('./data/H2.csv')\n",
    "test_targets = test_data['ADR']\n",
    "test_data.drop(inplace=True,columns=['ADR'])\n",
    "\n",
    "train_data.shape, test_data.shape"
   ]
  },
  {
   "cell_type": "markdown",
   "metadata": {},
   "source": [
    "### replace null elements with the most common attrebuite "
   ]
  },
  {
   "cell_type": "code",
   "execution_count": 3,
   "metadata": {},
   "outputs": [
    {
     "data": {
      "text/plain": [
       "IsCanceled                     False\n",
       "LeadTime                       False\n",
       "ArrivalDateYear                False\n",
       "ArrivalDateMonth               False\n",
       "ArrivalDateWeekNumber          False\n",
       "ArrivalDateDayOfMonth          False\n",
       "StaysInWeekendNights           False\n",
       "StaysInWeekNights              False\n",
       "Adults                         False\n",
       "Children                       False\n",
       "Babies                         False\n",
       "Meal                           False\n",
       "Country                         True\n",
       "MarketSegment                  False\n",
       "DistributionChannel            False\n",
       "IsRepeatedGuest                False\n",
       "PreviousCancellations          False\n",
       "PreviousBookingsNotCanceled    False\n",
       "ReservedRoomType               False\n",
       "AssignedRoomType               False\n",
       "BookingChanges                 False\n",
       "DepositType                    False\n",
       "DaysInWaitingList              False\n",
       "CustomerType                   False\n",
       "RequiredCarParkingSpaces       False\n",
       "TotalOfSpecialRequests         False\n",
       "ReservationStatus              False\n",
       "dtype: bool"
      ]
     },
     "execution_count": 3,
     "metadata": {},
     "output_type": "execute_result"
    }
   ],
   "source": [
    "train_data.isna().sum()!= 0"
   ]
  },
  {
   "cell_type": "code",
   "execution_count": 4,
   "metadata": {},
   "outputs": [
    {
     "data": {
      "text/plain": [
       "PRT    17630\n",
       "Name: Country, dtype: int64"
      ]
     },
     "execution_count": 4,
     "metadata": {},
     "output_type": "execute_result"
    }
   ],
   "source": [
    "train_data['Country'].value_counts()[:1]\n"
   ]
  },
  {
   "cell_type": "code",
   "execution_count": 5,
   "metadata": {},
   "outputs": [
    {
     "data": {
      "text/plain": [
       "IsCanceled                     False\n",
       "LeadTime                       False\n",
       "ArrivalDateYear                False\n",
       "ArrivalDateMonth               False\n",
       "ArrivalDateWeekNumber          False\n",
       "ArrivalDateDayOfMonth          False\n",
       "StaysInWeekendNights           False\n",
       "StaysInWeekNights              False\n",
       "Adults                         False\n",
       "Children                        True\n",
       "Babies                         False\n",
       "Meal                           False\n",
       "Country                         True\n",
       "MarketSegment                  False\n",
       "DistributionChannel            False\n",
       "IsRepeatedGuest                False\n",
       "PreviousCancellations          False\n",
       "PreviousBookingsNotCanceled    False\n",
       "ReservedRoomType               False\n",
       "AssignedRoomType               False\n",
       "BookingChanges                 False\n",
       "DepositType                    False\n",
       "DaysInWaitingList              False\n",
       "CustomerType                   False\n",
       "RequiredCarParkingSpaces       False\n",
       "TotalOfSpecialRequests         False\n",
       "ReservationStatus              False\n",
       "dtype: bool"
      ]
     },
     "execution_count": 5,
     "metadata": {},
     "output_type": "execute_result"
    }
   ],
   "source": [
    "test_data.isna().sum()!=0 #doing same process for test data"
   ]
  },
  {
   "cell_type": "code",
   "execution_count": 6,
   "metadata": {},
   "outputs": [
    {
     "data": {
      "text/plain": [
       "0.0    74220\n",
       "1.0     3023\n",
       "Name: Children, dtype: int64"
      ]
     },
     "execution_count": 6,
     "metadata": {},
     "output_type": "execute_result"
    }
   ],
   "source": [
    "test_data['Children'].value_counts()[:1]"
   ]
  },
  {
   "cell_type": "code",
   "execution_count": 7,
   "metadata": {},
   "outputs": [
    {
     "data": {
      "text/plain": [
       "PRT    30960\n",
       "Name: Country, dtype: int64"
      ]
     },
     "execution_count": 7,
     "metadata": {},
     "output_type": "execute_result"
    }
   ],
   "source": [
    "test_data['Country'].value_counts()[:1]"
   ]
  },
  {
   "cell_type": "code",
   "execution_count": 8,
   "metadata": {},
   "outputs": [],
   "source": [
    "train_data['Country'].fillna('PRT', inplace=True) #most common value in country feature is PRT \n",
    "\n",
    "test_data['Country'].fillna('PRT', inplace=True) \n",
    "test_data['Children'].fillna(0.0, inplace=True) #most common value in children feature is 0.0 \n"
   ]
  },
  {
   "cell_type": "markdown",
   "metadata": {},
   "source": [
    "### One_Hot_Encoding the categorical data on train data"
   ]
  },
  {
   "cell_type": "code",
   "execution_count": 9,
   "metadata": {},
   "outputs": [
    {
     "name": "stdout",
     "output_type": "stream",
     "text": [
      "['April-->ArrivalDateMonth' 'August-->ArrivalDateMonth'\n",
      " 'December-->ArrivalDateMonth' 'February-->ArrivalDateMonth'\n",
      " 'January-->ArrivalDateMonth' 'July-->ArrivalDateMonth'\n",
      " 'June-->ArrivalDateMonth' 'March-->ArrivalDateMonth'\n",
      " 'May-->ArrivalDateMonth' 'November-->ArrivalDateMonth'\n",
      " 'October-->ArrivalDateMonth' 'September-->ArrivalDateMonth']\n",
      "['BB       -->Meal' 'FB       -->Meal' 'HB       -->Meal'\n",
      " 'SC       -->Meal' 'Undefined-->Meal']\n",
      "['AGO-->Country' 'ALB-->Country' 'AND-->Country' 'ARE-->Country'\n",
      " 'ARG-->Country' 'ARM-->Country' 'AUS-->Country' 'AUT-->Country'\n",
      " 'AZE-->Country' 'BDI-->Country' 'BEL-->Country' 'BGR-->Country'\n",
      " 'BHR-->Country' 'BHS-->Country' 'BIH-->Country' 'BLR-->Country'\n",
      " 'BRA-->Country' 'BWA-->Country' 'CAF-->Country' 'CHE-->Country'\n",
      " 'CHL-->Country' 'CHN-->Country' 'CIV-->Country' 'CMR-->Country'\n",
      " 'CN-->Country' 'COL-->Country' 'COM-->Country' 'CPV-->Country'\n",
      " 'CRI-->Country' 'CUB-->Country' 'CYM-->Country' 'CYP-->Country'\n",
      " 'CZE-->Country' 'DEU-->Country' 'DJI-->Country' 'DNK-->Country'\n",
      " 'DOM-->Country' 'DZA-->Country' 'ECU-->Country' 'EGY-->Country'\n",
      " 'ESP-->Country' 'EST-->Country' 'FIN-->Country' 'FJI-->Country'\n",
      " 'FRA-->Country' 'GBR-->Country' 'GEO-->Country' 'GGY-->Country'\n",
      " 'GIB-->Country' 'GRC-->Country' 'HKG-->Country' 'HRV-->Country'\n",
      " 'HUN-->Country' 'IDN-->Country' 'IND-->Country' 'IRL-->Country'\n",
      " 'IRN-->Country' 'ISL-->Country' 'ISR-->Country' 'ITA-->Country'\n",
      " 'JAM-->Country' 'JEY-->Country' 'JOR-->Country' 'JPN-->Country'\n",
      " 'KAZ-->Country' 'KOR-->Country' 'KWT-->Country' 'LBN-->Country'\n",
      " 'LKA-->Country' 'LTU-->Country' 'LUX-->Country' 'LVA-->Country'\n",
      " 'MAC-->Country' 'MAR-->Country' 'MDG-->Country' 'MDV-->Country'\n",
      " 'MEX-->Country' 'MKD-->Country' 'MLT-->Country' 'MOZ-->Country'\n",
      " 'MUS-->Country' 'MWI-->Country' 'MYS-->Country' 'NGA-->Country'\n",
      " 'NLD-->Country' 'NOR-->Country' 'NPL-->Country' 'NZL-->Country'\n",
      " 'OMN-->Country' 'PAK-->Country' 'PER-->Country' 'PHL-->Country'\n",
      " 'PLW-->Country' 'POL-->Country' 'PRI-->Country' 'PRT-->Country'\n",
      " 'QAT-->Country' 'ROU-->Country' 'RUS-->Country' 'SAU-->Country'\n",
      " 'SEN-->Country' 'SGP-->Country' 'SMR-->Country' 'SRB-->Country'\n",
      " 'SUR-->Country' 'SVK-->Country' 'SVN-->Country' 'SWE-->Country'\n",
      " 'SYC-->Country' 'SYR-->Country' 'TGO-->Country' 'THA-->Country'\n",
      " 'TUN-->Country' 'TUR-->Country' 'TWN-->Country' 'UGA-->Country'\n",
      " 'UKR-->Country' 'URY-->Country' 'USA-->Country' 'UZB-->Country'\n",
      " 'VEN-->Country' 'VNM-->Country' 'ZAF-->Country' 'ZMB-->Country'\n",
      " 'ZWE-->Country']\n",
      "['Complementary-->MarketSegment' 'Corporate-->MarketSegment'\n",
      " 'Direct-->MarketSegment' 'Groups-->MarketSegment'\n",
      " 'Offline TA/TO-->MarketSegment' 'Online TA-->MarketSegment']\n",
      "['Corporate-->DistributionChannel' 'Direct-->DistributionChannel'\n",
      " 'TA/TO-->DistributionChannel' 'Undefined-->DistributionChannel']\n",
      "['A               -->ReservedRoomType'\n",
      " 'B               -->ReservedRoomType'\n",
      " 'C               -->ReservedRoomType'\n",
      " 'D               -->ReservedRoomType'\n",
      " 'E               -->ReservedRoomType'\n",
      " 'F               -->ReservedRoomType'\n",
      " 'G               -->ReservedRoomType'\n",
      " 'H               -->ReservedRoomType'\n",
      " 'L               -->ReservedRoomType'\n",
      " 'P               -->ReservedRoomType']\n",
      "['A               -->AssignedRoomType'\n",
      " 'B               -->AssignedRoomType'\n",
      " 'C               -->AssignedRoomType'\n",
      " 'D               -->AssignedRoomType'\n",
      " 'E               -->AssignedRoomType'\n",
      " 'F               -->AssignedRoomType'\n",
      " 'G               -->AssignedRoomType'\n",
      " 'H               -->AssignedRoomType'\n",
      " 'I               -->AssignedRoomType'\n",
      " 'L               -->AssignedRoomType'\n",
      " 'P               -->AssignedRoomType']\n",
      "['No Deposit     -->DepositType' 'Non Refund     -->DepositType'\n",
      " 'Refundable     -->DepositType']\n",
      "['Contract-->CustomerType' 'Group-->CustomerType'\n",
      " 'Transient-->CustomerType' 'Transient-Party-->CustomerType']\n",
      "['Canceled-->ReservationStatus' 'Check-Out-->ReservationStatus'\n",
      " 'No-Show-->ReservationStatus']\n"
     ]
    }
   ],
   "source": [
    "\n",
    "categorical_columns = train_data.select_dtypes(include=['object']).columns\n",
    "\n",
    "OneHot_list = {col: OneHotEncoder() for col in categorical_columns}\n",
    "\n",
    "# using fit_transform for train data \n",
    "for col in categorical_columns:\n",
    "    new_column = OneHot_list[col].fit_transform(\n",
    "        train_data[[col]])\n",
    "    col_name = OneHot_list[col].categories_[0]+'-->'+col\n",
    "    print(col_name)\n",
    "    train_data = pd.concat([train_data, pd.DataFrame(\n",
    "        new_column.toarray(),\n",
    "        columns=col_name)], axis=1)\n",
    "    #remove the previous categorical column \n",
    "    train_data.drop(columns=[col], inplace=True)"
   ]
  },
  {
   "cell_type": "markdown",
   "metadata": {},
   "source": [
    "### Replace Unknown categories elements in test data  with most common category"
   ]
  },
  {
   "cell_type": "code",
   "execution_count": 10,
   "metadata": {},
   "outputs": [
    {
     "name": "stdout",
     "output_type": "stream",
     "text": [
      "['ABW' 'AIA' 'ASM' 'ATA' 'ATF' 'BEN' 'BFA' 'BGD' 'BOL' 'BRB' 'DMA' 'ETH'\n",
      " 'FRO' 'GAB' 'GHA' 'GLP' 'GNB' 'GTM' 'GUY' 'HND' 'IMN' 'IRQ' 'KEN' 'KHM'\n",
      " 'KIR' 'KNA' 'LAO' 'LBY' 'LCA' 'LIE' 'MCO' 'MLI' 'MMR' 'MNE' 'MRT' 'MYT'\n",
      " 'NAM' 'NCL' 'NIC' 'PAN' 'PRY' 'PYF' 'RWA' 'SDN' 'SLE' 'SLV' 'STP' 'TJK'\n",
      " 'TMP' 'TZA' 'UMI' 'VGB'] different categories vs train data cats\n",
      "['Aviation' 'Undefined'] different categories vs train data cats\n",
      "['GDS'] different categories vs train data cats\n",
      "['K               '] different categories vs train data cats\n"
     ]
    }
   ],
   "source": [
    "for col in categorical_columns:\n",
    "    test_data_vals = test_data[col].unique()\n",
    "    encoder_vals = OneHot_list[col].categories_[0]\n",
    "    unknown_vals = np.setdiff1d(test_data[col].unique(), encoder_vals)\n",
    "    if len(unknown_vals) != 0:\n",
    "        print(unknown_vals,\"different categories vs train data cats\")\n",
    "\n",
    "        most_common_val = test_data[col].value_counts().index[0]\n",
    "        test_data[col].replace(unknown_vals, most_common_val, inplace=True)\n"
   ]
  },
  {
   "cell_type": "markdown",
   "metadata": {},
   "source": [
    "### One_Hot_Encoding the categorical data on test data"
   ]
  },
  {
   "cell_type": "code",
   "execution_count": 11,
   "metadata": {},
   "outputs": [
    {
     "name": "stdout",
     "output_type": "stream",
     "text": [
      "['April-->ArrivalDateMonth' 'August-->ArrivalDateMonth'\n",
      " 'December-->ArrivalDateMonth' 'February-->ArrivalDateMonth'\n",
      " 'January-->ArrivalDateMonth' 'July-->ArrivalDateMonth'\n",
      " 'June-->ArrivalDateMonth' 'March-->ArrivalDateMonth'\n",
      " 'May-->ArrivalDateMonth' 'November-->ArrivalDateMonth'\n",
      " 'October-->ArrivalDateMonth' 'September-->ArrivalDateMonth']\n",
      "['BB       -->Meal' 'FB       -->Meal' 'HB       -->Meal'\n",
      " 'SC       -->Meal' 'Undefined-->Meal']\n",
      "['AGO-->Country' 'ALB-->Country' 'AND-->Country' 'ARE-->Country'\n",
      " 'ARG-->Country' 'ARM-->Country' 'AUS-->Country' 'AUT-->Country'\n",
      " 'AZE-->Country' 'BDI-->Country' 'BEL-->Country' 'BGR-->Country'\n",
      " 'BHR-->Country' 'BHS-->Country' 'BIH-->Country' 'BLR-->Country'\n",
      " 'BRA-->Country' 'BWA-->Country' 'CAF-->Country' 'CHE-->Country'\n",
      " 'CHL-->Country' 'CHN-->Country' 'CIV-->Country' 'CMR-->Country'\n",
      " 'CN-->Country' 'COL-->Country' 'COM-->Country' 'CPV-->Country'\n",
      " 'CRI-->Country' 'CUB-->Country' 'CYM-->Country' 'CYP-->Country'\n",
      " 'CZE-->Country' 'DEU-->Country' 'DJI-->Country' 'DNK-->Country'\n",
      " 'DOM-->Country' 'DZA-->Country' 'ECU-->Country' 'EGY-->Country'\n",
      " 'ESP-->Country' 'EST-->Country' 'FIN-->Country' 'FJI-->Country'\n",
      " 'FRA-->Country' 'GBR-->Country' 'GEO-->Country' 'GGY-->Country'\n",
      " 'GIB-->Country' 'GRC-->Country' 'HKG-->Country' 'HRV-->Country'\n",
      " 'HUN-->Country' 'IDN-->Country' 'IND-->Country' 'IRL-->Country'\n",
      " 'IRN-->Country' 'ISL-->Country' 'ISR-->Country' 'ITA-->Country'\n",
      " 'JAM-->Country' 'JEY-->Country' 'JOR-->Country' 'JPN-->Country'\n",
      " 'KAZ-->Country' 'KOR-->Country' 'KWT-->Country' 'LBN-->Country'\n",
      " 'LKA-->Country' 'LTU-->Country' 'LUX-->Country' 'LVA-->Country'\n",
      " 'MAC-->Country' 'MAR-->Country' 'MDG-->Country' 'MDV-->Country'\n",
      " 'MEX-->Country' 'MKD-->Country' 'MLT-->Country' 'MOZ-->Country'\n",
      " 'MUS-->Country' 'MWI-->Country' 'MYS-->Country' 'NGA-->Country'\n",
      " 'NLD-->Country' 'NOR-->Country' 'NPL-->Country' 'NZL-->Country'\n",
      " 'OMN-->Country' 'PAK-->Country' 'PER-->Country' 'PHL-->Country'\n",
      " 'PLW-->Country' 'POL-->Country' 'PRI-->Country' 'PRT-->Country'\n",
      " 'QAT-->Country' 'ROU-->Country' 'RUS-->Country' 'SAU-->Country'\n",
      " 'SEN-->Country' 'SGP-->Country' 'SMR-->Country' 'SRB-->Country'\n",
      " 'SUR-->Country' 'SVK-->Country' 'SVN-->Country' 'SWE-->Country'\n",
      " 'SYC-->Country' 'SYR-->Country' 'TGO-->Country' 'THA-->Country'\n",
      " 'TUN-->Country' 'TUR-->Country' 'TWN-->Country' 'UGA-->Country'\n",
      " 'UKR-->Country' 'URY-->Country' 'USA-->Country' 'UZB-->Country'\n",
      " 'VEN-->Country' 'VNM-->Country' 'ZAF-->Country' 'ZMB-->Country'\n",
      " 'ZWE-->Country']\n",
      "['Complementary-->MarketSegment' 'Corporate-->MarketSegment'\n",
      " 'Direct-->MarketSegment' 'Groups-->MarketSegment'\n",
      " 'Offline TA/TO-->MarketSegment' 'Online TA-->MarketSegment']\n",
      "['Corporate-->DistributionChannel' 'Direct-->DistributionChannel'\n",
      " 'TA/TO-->DistributionChannel' 'Undefined-->DistributionChannel']\n",
      "['A               -->ReservedRoomType'\n",
      " 'B               -->ReservedRoomType'\n",
      " 'C               -->ReservedRoomType'\n",
      " 'D               -->ReservedRoomType'\n",
      " 'E               -->ReservedRoomType'\n",
      " 'F               -->ReservedRoomType'\n",
      " 'G               -->ReservedRoomType'\n",
      " 'H               -->ReservedRoomType'\n",
      " 'L               -->ReservedRoomType'\n",
      " 'P               -->ReservedRoomType']\n",
      "['A               -->AssignedRoomType'\n",
      " 'B               -->AssignedRoomType'\n",
      " 'C               -->AssignedRoomType'\n",
      " 'D               -->AssignedRoomType'\n",
      " 'E               -->AssignedRoomType'\n",
      " 'F               -->AssignedRoomType'\n",
      " 'G               -->AssignedRoomType'\n",
      " 'H               -->AssignedRoomType'\n",
      " 'I               -->AssignedRoomType'\n",
      " 'L               -->AssignedRoomType'\n",
      " 'P               -->AssignedRoomType']\n",
      "['No Deposit     -->DepositType' 'Non Refund     -->DepositType'\n",
      " 'Refundable     -->DepositType']\n",
      "['Contract-->CustomerType' 'Group-->CustomerType'\n",
      " 'Transient-->CustomerType' 'Transient-Party-->CustomerType']\n",
      "['Canceled-->ReservationStatus' 'Check-Out-->ReservationStatus'\n",
      " 'No-Show-->ReservationStatus']\n"
     ]
    }
   ],
   "source": [
    "for col in categorical_columns:\n",
    "    col_name = OneHot_list[col].categories_[0]+'-->'+col\n",
    "    test_data = pd.concat([test_data, pd.DataFrame(\n",
    "        OneHot_list[col].transform(\n",
    "        test_data[[col]]).toarray(),\n",
    "        columns=col_name)], axis=1)\n",
    "    print(col_name)\n",
    "    test_data.drop(columns=[col], inplace=True)\n"
   ]
  },
  {
   "cell_type": "code",
   "execution_count": 12,
   "metadata": {},
   "outputs": [
    {
     "data": {
      "text/plain": [
       "((40060, 200), (79330, 200))"
      ]
     },
     "execution_count": 12,
     "metadata": {},
     "output_type": "execute_result"
    }
   ],
   "source": [
    "train_data.shape,test_data.shape ##see how diffrent number of columns \n",
    " "
   ]
  },
  {
   "cell_type": "code",
   "execution_count": 13,
   "metadata": {},
   "outputs": [],
   "source": [
    "#copy pandas data\n",
    "\n",
    "train_data_pd = train_data.copy()\n",
    "train_targets_pd = train_targets.copy()\n",
    "test_data_pd = test_data.copy()\n",
    "test_targets_pd = test_targets.copy()\n",
    "\n",
    "#change type to float32\n",
    "train_data = train_data.astype('float32')\n",
    "train_targets = train_targets.astype('float32')\n",
    "test_data = test_data.astype('float32')\n",
    "test_targets = test_targets.astype('float32')\n",
    "\n",
    "#convert pandas dataframe to tensorflow\n",
    "train_data = tf.convert_to_tensor(train_data.values,\n",
    "                                        dtype=tf.float32)\n",
    "train_targets = tf.convert_to_tensor(train_targets.values,\n",
    "                                     dtype=tf.float32)\n",
    "\n",
    "test_data = tf.convert_to_tensor(test_data.values,\n",
    "                                 dtype=tf.float32)\n",
    "test_targets = tf.convert_to_tensor(test_targets.values,\n",
    "                                    dtype=tf.float32)"
   ]
  },
  {
   "cell_type": "markdown",
   "metadata": {},
   "source": [
    "### Normaliziation "
   ]
  },
  {
   "cell_type": "code",
   "execution_count": 14,
   "metadata": {},
   "outputs": [],
   "source": [
    "def normalization():\n",
    "    global train_data,test_data\n",
    "    mean = np.mean(train_data, axis=0)\n",
    "    train_data -= mean\n",
    "\n",
    "    std = np.std(train_data, axis=0)\n",
    "    train_data /= std\n",
    "\n",
    "    test_data -= mean\n",
    "    test_data /= std\n",
    "normalization()"
   ]
  },
  {
   "cell_type": "code",
   "execution_count": 15,
   "metadata": {},
   "outputs": [
    {
     "data": {
      "text/plain": [
       "200"
      ]
     },
     "execution_count": 15,
     "metadata": {},
     "output_type": "execute_result"
    }
   ],
   "source": [
    "train_data.shape[1]"
   ]
  },
  {
   "cell_type": "markdown",
   "metadata": {},
   "source": [
    "## MLP  model layers"
   ]
  },
  {
   "cell_type": "code",
   "execution_count": 19,
   "metadata": {},
   "outputs": [
    {
     "name": "stdout",
     "output_type": "stream",
     "text": [
      "Model: \"functional_5\"\n",
      "_________________________________________________________________\n",
      "Layer (type)                 Output Shape              Param #   \n",
      "=================================================================\n",
      "input_3 (InputLayer)         [(None, 200)]             0         \n",
      "_________________________________________________________________\n",
      "dense_8 (Dense)              (None, 140)               28140     \n",
      "_________________________________________________________________\n",
      "dense_9 (Dense)              (None, 150)               21150     \n",
      "_________________________________________________________________\n",
      "dropout_4 (Dropout)          (None, 150)               0         \n",
      "_________________________________________________________________\n",
      "dense_10 (Dense)             (None, 160)               24160     \n",
      "_________________________________________________________________\n",
      "dropout_5 (Dropout)          (None, 160)               0         \n",
      "_________________________________________________________________\n",
      "dense_11 (Dense)             (None, 1)                 161       \n",
      "=================================================================\n",
      "Total params: 73,611\n",
      "Trainable params: 73,611\n",
      "Non-trainable params: 0\n",
      "_________________________________________________________________\n"
     ]
    }
   ],
   "source": [
    "def model_builder():\n",
    "    \n",
    "    initializer = tf.keras.initializers.HeUniform (seed=4)\n",
    "    inputs = keras.Input(shape=(train_data.shape[1],))\n",
    "    x = layers.Dense(140, activation='relu',\n",
    "                     kernel_initializer=initializer)(inputs)\n",
    "    x = layers.Dense(150, activation='relu', kernel_initializer=initializer)(x)\n",
    "    x = layers.Dropout(0.1)(x)\n",
    "    x = layers.Dense(160, activation='relu', kernel_initializer=initializer)(x)\n",
    "    x = layers.Dropout(0.2)(x)\n",
    "\n",
    "    outputs = layers.Dense(1)(x)\n",
    "\n",
    "    model = keras.Model(inputs=inputs, outputs=outputs)\n",
    "\n",
    "    model.compile(optimizer='rmsprop', loss='mse', metrics=['mae'])\n",
    "    return model\n",
    "model=model_builder()\n",
    "model.summary()\n",
    "\n"
   ]
  },
  {
   "cell_type": "markdown",
   "metadata": {},
   "source": [
    "### Training the model with differnet number of epochs"
   ]
  },
  {
   "cell_type": "code",
   "execution_count": 20,
   "metadata": {},
   "outputs": [
    {
     "name": "stdout",
     "output_type": "stream",
     "text": [
      "Epoch 1/30\n",
      "501/501 [==============================] - 1s 2ms/step - loss: 1554.7246 - mae: 23.2867 - val_loss: 946.3973 - val_mae: 20.0273\n",
      "Epoch 2/30\n",
      "501/501 [==============================] - 1s 2ms/step - loss: 697.5172 - mae: 16.9009 - val_loss: 764.9330 - val_mae: 18.2431\n",
      "Epoch 3/30\n",
      "501/501 [==============================] - 1s 2ms/step - loss: 598.7263 - mae: 15.7363 - val_loss: 714.9500 - val_mae: 17.8793\n",
      "Epoch 4/30\n",
      "501/501 [==============================] - 1s 2ms/step - loss: 533.6194 - mae: 14.9758 - val_loss: 674.0670 - val_mae: 16.8519\n",
      "Epoch 5/30\n",
      "501/501 [==============================] - 1s 2ms/step - loss: 498.9904 - mae: 14.4266 - val_loss: 681.5283 - val_mae: 16.9777\n",
      "Epoch 6/30\n",
      "501/501 [==============================] - 1s 2ms/step - loss: 475.0870 - mae: 14.0395 - val_loss: 755.1580 - val_mae: 18.1506\n",
      "Epoch 7/30\n",
      "501/501 [==============================] - 1s 2ms/step - loss: 447.5273 - mae: 13.6599 - val_loss: 704.8165 - val_mae: 17.1936\n",
      "Epoch 8/30\n",
      "501/501 [==============================] - 1s 2ms/step - loss: 432.2234 - mae: 13.4152 - val_loss: 638.9242 - val_mae: 16.3989\n",
      "Epoch 9/30\n",
      "501/501 [==============================] - 1s 2ms/step - loss: 423.6338 - mae: 13.2844 - val_loss: 667.0462 - val_mae: 16.9117\n",
      "Epoch 10/30\n",
      "501/501 [==============================] - 1s 2ms/step - loss: 407.5518 - mae: 12.9856 - val_loss: 686.7479 - val_mae: 17.7892\n",
      "Epoch 11/30\n",
      "501/501 [==============================] - 1s 2ms/step - loss: 397.1260 - mae: 12.8625 - val_loss: 672.8483 - val_mae: 16.9903\n",
      "Epoch 12/30\n",
      "501/501 [==============================] - 1s 2ms/step - loss: 393.3366 - mae: 12.7423 - val_loss: 623.6081 - val_mae: 16.4266\n",
      "Epoch 13/30\n",
      "501/501 [==============================] - 1s 2ms/step - loss: 381.3309 - mae: 12.6329 - val_loss: 623.2241 - val_mae: 16.2859\n",
      "Epoch 14/30\n",
      "501/501 [==============================] - 1s 2ms/step - loss: 378.3996 - mae: 12.5544 - val_loss: 720.7225 - val_mae: 17.3584\n",
      "Epoch 15/30\n",
      "501/501 [==============================] - 1s 2ms/step - loss: 368.4332 - mae: 12.4119 - val_loss: 601.3478 - val_mae: 16.0508\n",
      "Epoch 16/30\n",
      "501/501 [==============================] - 1s 2ms/step - loss: 362.8645 - mae: 12.3103 - val_loss: 640.8028 - val_mae: 16.5021\n",
      "Epoch 17/30\n",
      "501/501 [==============================] - 1s 2ms/step - loss: 360.1615 - mae: 12.2950 - val_loss: 598.6472 - val_mae: 16.0634\n",
      "Epoch 18/30\n",
      "501/501 [==============================] - 1s 2ms/step - loss: 345.5896 - mae: 12.0673 - val_loss: 710.8950 - val_mae: 17.1589\n",
      "Epoch 19/30\n",
      "501/501 [==============================] - 1s 2ms/step - loss: 338.4686 - mae: 11.9557 - val_loss: 614.1762 - val_mae: 16.0627\n",
      "Epoch 20/30\n",
      "501/501 [==============================] - 1s 2ms/step - loss: 336.3946 - mae: 11.8875 - val_loss: 626.4556 - val_mae: 16.1963\n",
      "Epoch 21/30\n",
      "501/501 [==============================] - 1s 2ms/step - loss: 338.9636 - mae: 11.8701 - val_loss: 637.8044 - val_mae: 16.5534\n",
      "Epoch 22/30\n",
      "501/501 [==============================] - 1s 2ms/step - loss: 329.8663 - mae: 11.8296 - val_loss: 651.0691 - val_mae: 16.5666\n",
      "Epoch 23/30\n",
      "501/501 [==============================] - 1s 2ms/step - loss: 325.6645 - mae: 11.7141 - val_loss: 598.5976 - val_mae: 16.1296\n",
      "Epoch 24/30\n",
      "501/501 [==============================] - 1s 2ms/step - loss: 318.8478 - mae: 11.6119 - val_loss: 600.9488 - val_mae: 16.2307\n",
      "Epoch 25/30\n",
      "501/501 [==============================] - 1s 2ms/step - loss: 311.0867 - mae: 11.5199 - val_loss: 622.0239 - val_mae: 16.4457\n",
      "Epoch 26/30\n",
      "501/501 [==============================] - 1s 2ms/step - loss: 304.5519 - mae: 11.4462 - val_loss: 641.0866 - val_mae: 16.3419\n",
      "Epoch 27/30\n",
      "501/501 [==============================] - 1s 2ms/step - loss: 300.3287 - mae: 11.3785 - val_loss: 729.7692 - val_mae: 17.4536\n",
      "Epoch 28/30\n",
      "501/501 [==============================] - 1s 2ms/step - loss: 296.1075 - mae: 11.3122 - val_loss: 609.9669 - val_mae: 16.7010\n",
      "Epoch 29/30\n",
      "501/501 [==============================] - 1s 3ms/step - loss: 296.1396 - mae: 11.2443 - val_loss: 605.7742 - val_mae: 16.4277\n",
      "Epoch 30/30\n",
      "501/501 [==============================] - 1s 3ms/step - loss: 288.7097 - mae: 11.1475 - val_loss: 617.2313 - val_mae: 16.1988\n"
     ]
    }
   ],
   "source": [
    "\n",
    "pathlib.Path('./models/').mkdir(\n",
    "    parents=True, exist_ok=True)\n",
    "MODELS_DIR = pathlib.Path('./models/')\n",
    "\n",
    "callbacks = [\n",
    "    keras.callbacks.ModelCheckpoint(\n",
    "        filepath=os.path.join(MODELS_DIR,\n",
    "                              'architecute_without_featureselection.keras'),\n",
    "        save_best_only=True,\n",
    "        monitor='val_loss')]\n",
    "history = model.fit(train_data, train_targets, validation_split=0.2, epochs=30,\n",
    "                    batch_size=64, callbacks=callbacks)\n"
   ]
  },
  {
   "cell_type": "code",
   "execution_count": 21,
   "metadata": {},
   "outputs": [
    {
     "name": "stdout",
     "output_type": "stream",
     "text": [
      "Epoch 1/50\n",
      "501/501 [==============================] - 1s 2ms/step - loss: 287.8657 - mae: 11.1362 - val_loss: 600.4609 - val_mae: 16.1555\n",
      "Epoch 2/50\n",
      "501/501 [==============================] - 1s 2ms/step - loss: 280.8865 - mae: 10.9810 - val_loss: 688.5703 - val_mae: 16.8676\n",
      "Epoch 3/50\n",
      "501/501 [==============================] - 1s 2ms/step - loss: 279.2259 - mae: 11.0536 - val_loss: 639.2373 - val_mae: 16.3727\n",
      "Epoch 4/50\n",
      "501/501 [==============================] - 1s 2ms/step - loss: 271.1819 - mae: 10.8524 - val_loss: 651.6030 - val_mae: 16.3947\n",
      "Epoch 5/50\n",
      "501/501 [==============================] - 1s 2ms/step - loss: 271.8145 - mae: 10.8878 - val_loss: 592.7663 - val_mae: 16.0720\n",
      "Epoch 6/50\n",
      "501/501 [==============================] - 1s 2ms/step - loss: 263.0004 - mae: 10.7275 - val_loss: 708.4256 - val_mae: 17.2842\n",
      "Epoch 7/50\n",
      "501/501 [==============================] - 1s 2ms/step - loss: 269.7574 - mae: 10.8056 - val_loss: 632.1470 - val_mae: 17.0271\n",
      "Epoch 8/50\n",
      "501/501 [==============================] - 1s 2ms/step - loss: 263.4008 - mae: 10.7313 - val_loss: 627.5145 - val_mae: 16.1483\n",
      "Epoch 9/50\n",
      "501/501 [==============================] - 1s 2ms/step - loss: 266.6742 - mae: 10.7705 - val_loss: 603.2285 - val_mae: 16.3335\n",
      "Epoch 10/50\n",
      "501/501 [==============================] - 1s 2ms/step - loss: 260.7372 - mae: 10.6594 - val_loss: 598.0378 - val_mae: 16.1589\n",
      "Epoch 11/50\n",
      "501/501 [==============================] - 1s 2ms/step - loss: 255.3537 - mae: 10.5626 - val_loss: 605.9945 - val_mae: 16.0615\n",
      "Epoch 12/50\n",
      "501/501 [==============================] - 1s 2ms/step - loss: 253.1485 - mae: 10.5107 - val_loss: 701.4271 - val_mae: 17.0657\n",
      "Epoch 13/50\n",
      "501/501 [==============================] - 1s 2ms/step - loss: 257.5119 - mae: 10.5693 - val_loss: 603.6652 - val_mae: 15.8264\n",
      "Epoch 14/50\n",
      "501/501 [==============================] - 1s 2ms/step - loss: 252.1275 - mae: 10.4941 - val_loss: 604.4420 - val_mae: 16.3349\n",
      "Epoch 15/50\n",
      "501/501 [==============================] - 1s 2ms/step - loss: 252.3093 - mae: 10.4339 - val_loss: 681.7350 - val_mae: 16.9472\n",
      "Epoch 16/50\n",
      "501/501 [==============================] - 1s 2ms/step - loss: 248.2742 - mae: 10.3616 - val_loss: 617.6773 - val_mae: 16.7340\n",
      "Epoch 17/50\n",
      "501/501 [==============================] - 1s 2ms/step - loss: 244.2096 - mae: 10.3954 - val_loss: 600.2787 - val_mae: 16.3388\n",
      "Epoch 18/50\n",
      "501/501 [==============================] - 1s 2ms/step - loss: 245.0847 - mae: 10.3934 - val_loss: 600.9198 - val_mae: 15.8265\n",
      "Epoch 19/50\n",
      "501/501 [==============================] - 1s 2ms/step - loss: 250.5083 - mae: 10.2986 - val_loss: 630.6255 - val_mae: 16.1256\n",
      "Epoch 20/50\n",
      "501/501 [==============================] - 1s 2ms/step - loss: 241.2211 - mae: 10.3002 - val_loss: 640.4047 - val_mae: 17.0713\n",
      "Epoch 21/50\n",
      "501/501 [==============================] - 1s 2ms/step - loss: 241.0159 - mae: 10.2238 - val_loss: 614.4542 - val_mae: 16.6277\n",
      "Epoch 22/50\n",
      "501/501 [==============================] - 1s 2ms/step - loss: 238.2490 - mae: 10.2245 - val_loss: 607.1496 - val_mae: 16.2824\n",
      "Epoch 23/50\n",
      "501/501 [==============================] - 1s 2ms/step - loss: 237.9457 - mae: 10.2039 - val_loss: 629.9304 - val_mae: 16.2539\n",
      "Epoch 24/50\n",
      "501/501 [==============================] - 1s 2ms/step - loss: 236.6867 - mae: 10.1485 - val_loss: 628.1700 - val_mae: 16.8183\n",
      "Epoch 25/50\n",
      "501/501 [==============================] - 1s 2ms/step - loss: 237.9518 - mae: 10.1069 - val_loss: 720.9921 - val_mae: 17.0670\n",
      "Epoch 26/50\n",
      "501/501 [==============================] - 1s 2ms/step - loss: 233.9816 - mae: 10.0709 - val_loss: 610.0994 - val_mae: 16.1983\n",
      "Epoch 27/50\n",
      "501/501 [==============================] - 1s 2ms/step - loss: 230.9096 - mae: 10.0321 - val_loss: 639.9355 - val_mae: 16.3269\n",
      "Epoch 28/50\n",
      "501/501 [==============================] - 1s 2ms/step - loss: 228.1989 - mae: 9.9677 - val_loss: 619.9071 - val_mae: 16.2875\n",
      "Epoch 29/50\n",
      "501/501 [==============================] - 1s 2ms/step - loss: 228.0956 - mae: 9.9849 - val_loss: 708.7985 - val_mae: 17.0844\n",
      "Epoch 30/50\n",
      "501/501 [==============================] - 1s 2ms/step - loss: 228.4600 - mae: 9.9618 - val_loss: 596.7759 - val_mae: 15.8870\n",
      "Epoch 31/50\n",
      "501/501 [==============================] - 1s 2ms/step - loss: 227.6067 - mae: 9.9302 - val_loss: 604.4745 - val_mae: 16.3227\n",
      "Epoch 32/50\n",
      "501/501 [==============================] - 1s 2ms/step - loss: 224.9512 - mae: 9.9282 - val_loss: 646.5268 - val_mae: 16.4921\n",
      "Epoch 33/50\n",
      "501/501 [==============================] - 1s 2ms/step - loss: 220.2772 - mae: 9.8342 - val_loss: 629.7084 - val_mae: 16.3400\n",
      "Epoch 34/50\n",
      "501/501 [==============================] - 1s 2ms/step - loss: 220.5301 - mae: 9.8525 - val_loss: 618.0388 - val_mae: 16.5312\n",
      "Epoch 35/50\n",
      "501/501 [==============================] - 1s 2ms/step - loss: 221.1484 - mae: 9.8543 - val_loss: 623.5936 - val_mae: 16.2092\n",
      "Epoch 36/50\n",
      "501/501 [==============================] - 1s 2ms/step - loss: 214.6442 - mae: 9.7441 - val_loss: 584.7944 - val_mae: 15.7815\n",
      "Epoch 37/50\n",
      "501/501 [==============================] - 1s 2ms/step - loss: 215.7976 - mae: 9.7496 - val_loss: 630.9051 - val_mae: 16.2778\n",
      "Epoch 38/50\n",
      "501/501 [==============================] - 1s 2ms/step - loss: 213.6221 - mae: 9.7090 - val_loss: 673.4687 - val_mae: 16.5667\n",
      "Epoch 39/50\n",
      "501/501 [==============================] - 1s 2ms/step - loss: 221.2706 - mae: 9.8211 - val_loss: 714.6501 - val_mae: 17.1636\n",
      "Epoch 40/50\n",
      "501/501 [==============================] - 1s 2ms/step - loss: 215.0243 - mae: 9.6741 - val_loss: 665.7267 - val_mae: 17.4695\n",
      "Epoch 41/50\n",
      "501/501 [==============================] - 1s 2ms/step - loss: 211.2012 - mae: 9.6964 - val_loss: 640.3248 - val_mae: 16.7263\n",
      "Epoch 42/50\n",
      "501/501 [==============================] - 1s 2ms/step - loss: 212.2166 - mae: 9.6222 - val_loss: 632.2430 - val_mae: 16.9675\n",
      "Epoch 43/50\n",
      "501/501 [==============================] - 1s 2ms/step - loss: 215.2361 - mae: 9.6792 - val_loss: 612.6058 - val_mae: 16.0701\n",
      "Epoch 44/50\n",
      "501/501 [==============================] - 1s 2ms/step - loss: 209.2058 - mae: 9.5484 - val_loss: 614.0665 - val_mae: 16.4417\n",
      "Epoch 45/50\n",
      "501/501 [==============================] - 1s 2ms/step - loss: 209.9657 - mae: 9.6120 - val_loss: 598.2570 - val_mae: 15.9994\n",
      "Epoch 46/50\n",
      "501/501 [==============================] - 1s 2ms/step - loss: 211.6370 - mae: 9.5548 - val_loss: 611.9315 - val_mae: 16.0732\n",
      "Epoch 47/50\n",
      "501/501 [==============================] - 1s 2ms/step - loss: 206.2015 - mae: 9.5150 - val_loss: 615.1594 - val_mae: 16.1349\n",
      "Epoch 48/50\n",
      "501/501 [==============================] - 1s 2ms/step - loss: 205.1033 - mae: 9.4291 - val_loss: 617.3162 - val_mae: 16.0756\n",
      "Epoch 49/50\n",
      "501/501 [==============================] - 1s 2ms/step - loss: 204.2561 - mae: 9.4274 - val_loss: 647.0520 - val_mae: 16.5600\n",
      "Epoch 50/50\n",
      "501/501 [==============================] - 1s 2ms/step - loss: 203.5792 - mae: 9.4496 - val_loss: 621.2784 - val_mae: 16.1604\n"
     ]
    }
   ],
   "source": [
    "history = model.fit(train_data, train_targets, validation_split=0.2, epochs=50,\n",
    "                    batch_size=64, callbacks=callbacks)"
   ]
  },
  {
   "cell_type": "code",
   "execution_count": 22,
   "metadata": {},
   "outputs": [
    {
     "name": "stdout",
     "output_type": "stream",
     "text": [
      "Epoch 1/100\n",
      "501/501 [==============================] - 1s 3ms/step - loss: 202.0544 - mae: 9.4004 - val_loss: 723.1021 - val_mae: 18.3980\n",
      "Epoch 2/100\n",
      "501/501 [==============================] - 1s 2ms/step - loss: 198.6690 - mae: 9.3596 - val_loss: 678.9726 - val_mae: 16.8053\n",
      "Epoch 3/100\n",
      "501/501 [==============================] - 1s 2ms/step - loss: 203.7969 - mae: 9.4113 - val_loss: 626.5748 - val_mae: 16.3841\n",
      "Epoch 4/100\n",
      "501/501 [==============================] - 1s 2ms/step - loss: 198.5881 - mae: 9.3367 - val_loss: 650.5142 - val_mae: 16.5191\n",
      "Epoch 5/100\n",
      "501/501 [==============================] - 1s 2ms/step - loss: 198.2514 - mae: 9.3456 - val_loss: 637.1852 - val_mae: 16.7545\n",
      "Epoch 6/100\n",
      "501/501 [==============================] - 1s 2ms/step - loss: 197.6936 - mae: 9.2792 - val_loss: 593.0532 - val_mae: 15.9471\n",
      "Epoch 7/100\n",
      "501/501 [==============================] - 1s 2ms/step - loss: 196.2982 - mae: 9.3177 - val_loss: 634.4348 - val_mae: 16.4461\n",
      "Epoch 8/100\n",
      "501/501 [==============================] - 1s 2ms/step - loss: 198.3129 - mae: 9.3269 - val_loss: 624.9768 - val_mae: 16.3636\n",
      "Epoch 9/100\n",
      "501/501 [==============================] - 1s 2ms/step - loss: 196.6226 - mae: 9.2711 - val_loss: 682.9393 - val_mae: 17.7090\n",
      "Epoch 10/100\n",
      "501/501 [==============================] - 1s 2ms/step - loss: 196.3162 - mae: 9.2365 - val_loss: 641.5524 - val_mae: 16.6707\n",
      "Epoch 11/100\n",
      "501/501 [==============================] - 1s 2ms/step - loss: 193.9593 - mae: 9.2312 - val_loss: 640.9605 - val_mae: 16.5636\n",
      "Epoch 12/100\n",
      "501/501 [==============================] - 1s 2ms/step - loss: 194.8898 - mae: 9.2036 - val_loss: 772.9415 - val_mae: 17.9579\n",
      "Epoch 13/100\n",
      "501/501 [==============================] - 1s 2ms/step - loss: 192.2103 - mae: 9.2147 - val_loss: 643.2616 - val_mae: 16.7248\n",
      "Epoch 14/100\n",
      "501/501 [==============================] - 1s 2ms/step - loss: 191.7066 - mae: 9.1752 - val_loss: 622.5092 - val_mae: 16.5331\n",
      "Epoch 15/100\n",
      "501/501 [==============================] - 1s 2ms/step - loss: 190.9111 - mae: 9.1520 - val_loss: 631.6125 - val_mae: 16.7251\n",
      "Epoch 16/100\n",
      "501/501 [==============================] - 1s 2ms/step - loss: 190.6248 - mae: 9.1210 - val_loss: 663.6636 - val_mae: 16.7763\n",
      "Epoch 17/100\n",
      "501/501 [==============================] - 1s 2ms/step - loss: 187.7567 - mae: 9.0814 - val_loss: 635.0187 - val_mae: 16.7729\n",
      "Epoch 18/100\n",
      "501/501 [==============================] - 1s 2ms/step - loss: 190.9709 - mae: 9.1585 - val_loss: 668.2785 - val_mae: 17.0424\n",
      "Epoch 19/100\n",
      "501/501 [==============================] - 1s 2ms/step - loss: 187.6730 - mae: 9.1146 - val_loss: 636.3200 - val_mae: 16.5870\n",
      "Epoch 20/100\n",
      "501/501 [==============================] - 1s 2ms/step - loss: 186.7669 - mae: 9.0476 - val_loss: 650.8370 - val_mae: 16.8048\n",
      "Epoch 21/100\n",
      "501/501 [==============================] - 1s 2ms/step - loss: 189.8012 - mae: 9.0763 - val_loss: 635.7921 - val_mae: 16.4219\n",
      "Epoch 22/100\n",
      "501/501 [==============================] - 1s 2ms/step - loss: 183.3988 - mae: 9.0273 - val_loss: 711.9854 - val_mae: 17.2123\n",
      "Epoch 23/100\n",
      "501/501 [==============================] - 1s 2ms/step - loss: 186.5988 - mae: 9.0201 - val_loss: 660.9466 - val_mae: 16.8261\n",
      "Epoch 24/100\n",
      "501/501 [==============================] - 1s 2ms/step - loss: 186.3082 - mae: 9.0264 - val_loss: 673.5392 - val_mae: 17.2705\n",
      "Epoch 25/100\n",
      "501/501 [==============================] - 1s 2ms/step - loss: 187.1171 - mae: 9.0386 - val_loss: 643.3453 - val_mae: 16.4543\n",
      "Epoch 26/100\n",
      "501/501 [==============================] - 1s 2ms/step - loss: 182.4097 - mae: 8.9984 - val_loss: 673.6180 - val_mae: 16.7618\n",
      "Epoch 27/100\n",
      "501/501 [==============================] - 1s 2ms/step - loss: 180.7188 - mae: 8.9094 - val_loss: 710.6078 - val_mae: 17.9854\n",
      "Epoch 28/100\n",
      "501/501 [==============================] - 1s 2ms/step - loss: 181.8492 - mae: 8.9512 - val_loss: 630.5660 - val_mae: 16.6416\n",
      "Epoch 29/100\n",
      "501/501 [==============================] - 1s 2ms/step - loss: 182.8025 - mae: 8.9637 - val_loss: 786.0979 - val_mae: 18.2175\n",
      "Epoch 30/100\n",
      "501/501 [==============================] - 1s 3ms/step - loss: 178.0347 - mae: 8.8691 - val_loss: 685.6113 - val_mae: 17.0592\n",
      "Epoch 31/100\n",
      "501/501 [==============================] - 1s 2ms/step - loss: 180.8728 - mae: 8.8639 - val_loss: 637.0904 - val_mae: 16.8906\n",
      "Epoch 32/100\n",
      "501/501 [==============================] - 1s 2ms/step - loss: 180.2788 - mae: 8.8772 - val_loss: 629.4719 - val_mae: 16.4596\n",
      "Epoch 33/100\n",
      "501/501 [==============================] - 1s 2ms/step - loss: 179.6925 - mae: 8.9280 - val_loss: 740.9480 - val_mae: 17.5139\n",
      "Epoch 34/100\n",
      "501/501 [==============================] - 1s 2ms/step - loss: 177.1284 - mae: 8.7951 - val_loss: 653.0483 - val_mae: 16.6440\n",
      "Epoch 35/100\n",
      "501/501 [==============================] - 1s 2ms/step - loss: 176.5889 - mae: 8.7981 - val_loss: 627.0549 - val_mae: 16.4034\n",
      "Epoch 36/100\n",
      "501/501 [==============================] - 1s 2ms/step - loss: 176.9431 - mae: 8.8547 - val_loss: 642.7515 - val_mae: 16.5535\n",
      "Epoch 37/100\n",
      "501/501 [==============================] - 1s 2ms/step - loss: 175.4862 - mae: 8.8125 - val_loss: 679.3087 - val_mae: 16.9095\n",
      "Epoch 38/100\n",
      "501/501 [==============================] - 1s 2ms/step - loss: 180.6282 - mae: 8.8436 - val_loss: 653.1087 - val_mae: 16.5820\n",
      "Epoch 39/100\n",
      "501/501 [==============================] - 1s 2ms/step - loss: 177.3601 - mae: 8.7848 - val_loss: 634.2485 - val_mae: 16.5458\n",
      "Epoch 40/100\n",
      "501/501 [==============================] - 1s 2ms/step - loss: 175.7425 - mae: 8.8065 - val_loss: 688.7886 - val_mae: 16.9447\n",
      "Epoch 41/100\n",
      "501/501 [==============================] - 1s 2ms/step - loss: 173.3489 - mae: 8.7252 - val_loss: 661.7855 - val_mae: 16.6642\n",
      "Epoch 42/100\n",
      "501/501 [==============================] - 1s 2ms/step - loss: 175.8402 - mae: 8.7924 - val_loss: 664.3212 - val_mae: 16.6440\n",
      "Epoch 43/100\n",
      "501/501 [==============================] - 1s 2ms/step - loss: 177.7130 - mae: 8.7947 - val_loss: 655.8571 - val_mae: 16.6882\n",
      "Epoch 44/100\n",
      "501/501 [==============================] - 1s 2ms/step - loss: 172.6805 - mae: 8.7183 - val_loss: 634.6909 - val_mae: 16.4914\n",
      "Epoch 45/100\n",
      "501/501 [==============================] - 1s 2ms/step - loss: 170.2244 - mae: 8.6878 - val_loss: 651.2180 - val_mae: 16.5462\n",
      "Epoch 46/100\n",
      "501/501 [==============================] - 1s 2ms/step - loss: 171.5368 - mae: 8.6841 - val_loss: 656.9686 - val_mae: 17.2480\n",
      "Epoch 47/100\n",
      "501/501 [==============================] - 1s 2ms/step - loss: 171.4151 - mae: 8.6755 - val_loss: 656.3716 - val_mae: 16.6835\n",
      "Epoch 48/100\n",
      "501/501 [==============================] - 1s 2ms/step - loss: 175.8787 - mae: 8.7282 - val_loss: 622.6930 - val_mae: 16.3178\n",
      "Epoch 49/100\n",
      "501/501 [==============================] - 1s 2ms/step - loss: 169.6150 - mae: 8.6438 - val_loss: 655.4248 - val_mae: 17.1183\n",
      "Epoch 50/100\n",
      "501/501 [==============================] - 1s 2ms/step - loss: 174.0397 - mae: 8.7018 - val_loss: 614.8165 - val_mae: 16.5236\n",
      "Epoch 51/100\n",
      "501/501 [==============================] - 1s 2ms/step - loss: 168.5953 - mae: 8.5850 - val_loss: 650.8795 - val_mae: 16.6122\n",
      "Epoch 52/100\n",
      "501/501 [==============================] - 1s 2ms/step - loss: 168.0414 - mae: 8.6439 - val_loss: 610.9126 - val_mae: 16.2588\n",
      "Epoch 53/100\n",
      "501/501 [==============================] - 1s 2ms/step - loss: 170.1626 - mae: 8.6103 - val_loss: 640.2646 - val_mae: 16.6945\n",
      "Epoch 54/100\n",
      "501/501 [==============================] - 1s 2ms/step - loss: 169.2095 - mae: 8.6057 - val_loss: 628.2224 - val_mae: 16.7429\n",
      "Epoch 55/100\n",
      "501/501 [==============================] - 1s 2ms/step - loss: 169.1815 - mae: 8.6217 - val_loss: 629.9851 - val_mae: 16.3477\n",
      "Epoch 56/100\n",
      "501/501 [==============================] - 1s 2ms/step - loss: 169.4725 - mae: 8.5673 - val_loss: 646.4388 - val_mae: 16.5097\n",
      "Epoch 57/100\n",
      "501/501 [==============================] - 1s 2ms/step - loss: 168.8860 - mae: 8.5772 - val_loss: 636.9197 - val_mae: 16.7372\n",
      "Epoch 58/100\n",
      "501/501 [==============================] - 1s 2ms/step - loss: 164.8933 - mae: 8.5463 - val_loss: 641.4301 - val_mae: 16.8064\n",
      "Epoch 59/100\n",
      "501/501 [==============================] - 1s 2ms/step - loss: 166.0451 - mae: 8.5067 - val_loss: 673.8700 - val_mae: 17.3387\n",
      "Epoch 60/100\n"
     ]
    },
    {
     "name": "stdout",
     "output_type": "stream",
     "text": [
      "501/501 [==============================] - 1s 2ms/step - loss: 163.8366 - mae: 8.4847 - val_loss: 633.8716 - val_mae: 16.7142\n",
      "Epoch 61/100\n",
      "501/501 [==============================] - 1s 2ms/step - loss: 164.5637 - mae: 8.4964 - val_loss: 714.0038 - val_mae: 17.2589\n",
      "Epoch 62/100\n",
      "501/501 [==============================] - 1s 2ms/step - loss: 163.0596 - mae: 8.4766 - val_loss: 643.2568 - val_mae: 16.6515\n",
      "Epoch 63/100\n",
      "501/501 [==============================] - 1s 2ms/step - loss: 160.6208 - mae: 8.4371 - val_loss: 625.2731 - val_mae: 16.4631\n",
      "Epoch 64/100\n",
      "501/501 [==============================] - 1s 2ms/step - loss: 162.6599 - mae: 8.4596 - val_loss: 640.5377 - val_mae: 16.6748\n",
      "Epoch 65/100\n",
      "501/501 [==============================] - 1s 2ms/step - loss: 162.1781 - mae: 8.4585 - val_loss: 659.9994 - val_mae: 17.1833\n",
      "Epoch 66/100\n",
      "501/501 [==============================] - 1s 2ms/step - loss: 161.2232 - mae: 8.4163 - val_loss: 643.9905 - val_mae: 16.4959\n",
      "Epoch 67/100\n",
      "501/501 [==============================] - 1s 2ms/step - loss: 160.4545 - mae: 8.3719 - val_loss: 649.2515 - val_mae: 16.6089\n",
      "Epoch 68/100\n",
      "501/501 [==============================] - 1s 2ms/step - loss: 160.5589 - mae: 8.3616 - val_loss: 894.1376 - val_mae: 19.2445\n",
      "Epoch 69/100\n",
      "501/501 [==============================] - 1s 2ms/step - loss: 159.9672 - mae: 8.3607 - val_loss: 636.3929 - val_mae: 16.4090\n",
      "Epoch 70/100\n",
      "501/501 [==============================] - 1s 2ms/step - loss: 161.9261 - mae: 8.4212 - val_loss: 641.3622 - val_mae: 16.6730\n",
      "Epoch 71/100\n",
      "501/501 [==============================] - 1s 2ms/step - loss: 161.1724 - mae: 8.4096 - val_loss: 644.1345 - val_mae: 16.8258\n",
      "Epoch 72/100\n",
      "501/501 [==============================] - 1s 2ms/step - loss: 156.1068 - mae: 8.3262 - val_loss: 662.1474 - val_mae: 16.7464\n",
      "Epoch 73/100\n",
      "501/501 [==============================] - 1s 2ms/step - loss: 160.8977 - mae: 8.3963 - val_loss: 840.7184 - val_mae: 18.9836\n",
      "Epoch 74/100\n",
      "501/501 [==============================] - 1s 2ms/step - loss: 157.2892 - mae: 8.3250 - val_loss: 638.8370 - val_mae: 16.5399\n",
      "Epoch 75/100\n",
      "501/501 [==============================] - 1s 2ms/step - loss: 159.8830 - mae: 8.3442 - val_loss: 654.2786 - val_mae: 16.6510\n",
      "Epoch 76/100\n",
      "501/501 [==============================] - 1s 2ms/step - loss: 156.1445 - mae: 8.2991 - val_loss: 648.6030 - val_mae: 16.5591\n",
      "Epoch 77/100\n",
      "501/501 [==============================] - 1s 2ms/step - loss: 159.9078 - mae: 8.3695 - val_loss: 677.6179 - val_mae: 16.9506\n",
      "Epoch 78/100\n",
      "501/501 [==============================] - 1s 2ms/step - loss: 157.2131 - mae: 8.3108 - val_loss: 630.3158 - val_mae: 16.5632\n",
      "Epoch 79/100\n",
      "501/501 [==============================] - 1s 2ms/step - loss: 159.4324 - mae: 8.3514 - val_loss: 625.2824 - val_mae: 16.3834\n",
      "Epoch 80/100\n",
      "501/501 [==============================] - 1s 2ms/step - loss: 159.4321 - mae: 8.3368 - val_loss: 639.2739 - val_mae: 16.4494\n",
      "Epoch 81/100\n",
      "501/501 [==============================] - 1s 2ms/step - loss: 157.0708 - mae: 8.3603 - val_loss: 604.3928 - val_mae: 16.1295\n",
      "Epoch 82/100\n",
      "501/501 [==============================] - 1s 2ms/step - loss: 154.1826 - mae: 8.2406 - val_loss: 619.4054 - val_mae: 16.5340\n",
      "Epoch 83/100\n",
      "501/501 [==============================] - 1s 2ms/step - loss: 155.4338 - mae: 8.2922 - val_loss: 646.7041 - val_mae: 16.5955\n",
      "Epoch 84/100\n",
      "501/501 [==============================] - 1s 2ms/step - loss: 155.8990 - mae: 8.2530 - val_loss: 628.8609 - val_mae: 16.4543\n",
      "Epoch 85/100\n",
      "501/501 [==============================] - 1s 2ms/step - loss: 155.4496 - mae: 8.2921 - val_loss: 653.8417 - val_mae: 17.1041\n",
      "Epoch 86/100\n",
      "501/501 [==============================] - 1s 2ms/step - loss: 154.3514 - mae: 8.2190 - val_loss: 724.6140 - val_mae: 17.3238\n",
      "Epoch 87/100\n",
      "501/501 [==============================] - 1s 2ms/step - loss: 154.5748 - mae: 8.2449 - val_loss: 683.8549 - val_mae: 17.0278\n",
      "Epoch 88/100\n",
      "501/501 [==============================] - 1s 2ms/step - loss: 155.0051 - mae: 8.2445 - val_loss: 677.0104 - val_mae: 16.8946\n",
      "Epoch 89/100\n",
      "501/501 [==============================] - 1s 2ms/step - loss: 152.3250 - mae: 8.1928 - val_loss: 653.9382 - val_mae: 16.8336\n",
      "Epoch 90/100\n",
      "501/501 [==============================] - 1s 2ms/step - loss: 156.0999 - mae: 8.2557 - val_loss: 657.7002 - val_mae: 16.8471\n",
      "Epoch 91/100\n",
      "501/501 [==============================] - 1s 2ms/step - loss: 158.1741 - mae: 8.2767 - val_loss: 654.2427 - val_mae: 17.1397\n",
      "Epoch 92/100\n",
      "501/501 [==============================] - 1s 3ms/step - loss: 156.5641 - mae: 8.3032 - val_loss: 659.5046 - val_mae: 17.0145\n",
      "Epoch 93/100\n",
      "501/501 [==============================] - 1s 2ms/step - loss: 152.5978 - mae: 8.2139 - val_loss: 714.0085 - val_mae: 17.3575\n",
      "Epoch 94/100\n",
      "501/501 [==============================] - 1s 2ms/step - loss: 152.6098 - mae: 8.1574 - val_loss: 719.9985 - val_mae: 18.1156\n",
      "Epoch 95/100\n",
      "501/501 [==============================] - 1s 2ms/step - loss: 151.1256 - mae: 8.1636 - val_loss: 645.4261 - val_mae: 16.7254\n",
      "Epoch 96/100\n",
      "501/501 [==============================] - 1s 2ms/step - loss: 153.1800 - mae: 8.1976 - val_loss: 654.1401 - val_mae: 16.9047\n",
      "Epoch 97/100\n",
      "501/501 [==============================] - 1s 2ms/step - loss: 153.8301 - mae: 8.2112 - val_loss: 637.4351 - val_mae: 16.7055\n",
      "Epoch 98/100\n",
      "501/501 [==============================] - 1s 2ms/step - loss: 150.3058 - mae: 8.1219 - val_loss: 667.9240 - val_mae: 17.1613\n",
      "Epoch 99/100\n",
      "501/501 [==============================] - 1s 2ms/step - loss: 152.1489 - mae: 8.1725 - val_loss: 642.8894 - val_mae: 16.9221\n",
      "Epoch 100/100\n",
      "501/501 [==============================] - 1s 2ms/step - loss: 152.1188 - mae: 8.1558 - val_loss: 690.8768 - val_mae: 17.0210\n"
     ]
    }
   ],
   "source": [
    "history = model.fit(train_data, train_targets, validation_split=0.2, epochs=100,\n",
    "                    batch_size=64, callbacks=callbacks)"
   ]
  },
  {
   "cell_type": "code",
   "execution_count": 32,
   "metadata": {},
   "outputs": [],
   "source": [
    "def plot_history(history):\n",
    "    \n",
    "    \"\"\"MSE MAE Plot history\"\"\"\n",
    "    \n",
    "    fig = plt.figure(figsize=(10, 10))\n",
    "\n",
    "    num_epochs=len(history.history['mae']) + 1\n",
    "    \n",
    "    epochs = range(1, num_epochs)\n",
    "\n",
    "    plt.subplot(2, 1, 1)\n",
    "    plt.plot(epochs, history.history['loss'], 'r', label='Training')\n",
    "    plt.plot(epochs, history.history['val_loss'], 'b',\n",
    "             label='Validation ')\n",
    "    plt.title('Training and validation loss Mean squared error (MSE)')\n",
    "    plt.xlabel('Epochs')\n",
    "    plt.ylabel('Loss(MSE)')\n",
    "    plt.legend()\n",
    "    \n",
    "    plt.subplot(2, 1, 2)\n",
    "    plt.plot(epochs, history.history['mae'], 'r', label='Training ')\n",
    "    plt.plot(epochs, history.history['val_mae'], 'b', label='Validation ')\n",
    "    plt.title('Training and validation MAE')\n",
    "    plt.xlabel('Epochs')\n",
    "    plt.ylabel('MAE')\n",
    "    plt.legend()\n",
    "\n",
    "    plt.show()\n"
   ]
  },
  {
   "cell_type": "code",
   "execution_count": 33,
   "metadata": {},
   "outputs": [
    {
     "data": {
      "image/png": "[encoded data removed]",
      "text/plain": [
       "<Figure size 720x720 with 2 Axes>"
      ]
     },
     "metadata": {
      "needs_background": "light"
     },
     "output_type": "display_data"
    }
   ],
   "source": [
    "plot_history(history)"
   ]
  },
  {
   "cell_type": "markdown",
   "metadata": {},
   "source": [
    "## Evaluate MLP model on test data"
   ]
  },
  {
   "cell_type": "code",
   "execution_count": 34,
   "metadata": {},
   "outputs": [
    {
     "name": "stdout",
     "output_type": "stream",
     "text": [
      "2480/2480 [==============================] - 2s 613us/step - loss: 3427.9536 - mean_absolute_error: 46.6180\n"
     ]
    }
   ],
   "source": [
    "model = keras.models.load_model(os.path.join(\n",
    "    MODELS_DIR, 'architecute_without_featureselection.keras'))\n",
    "\n",
    "test_predictions = model.predict(test_data)\n",
    "\n",
    "test_mse_score, test_mae_score = model.evaluate(test_data, test_targets)"
   ]
  },
  {
   "cell_type": "markdown",
   "metadata": {},
   "source": [
    "## Saving the results"
   ]
  },
  {
   "cell_type": "code",
   "execution_count": 35,
   "metadata": {},
   "outputs": [
    {
     "data": {
      "text/html": [
       "<div>\n",
       "<style scoped>\n",
       "    .dataframe tbody tr th:only-of-type {\n",
       "        vertical-align: middle;\n",
       "    }\n",
       "\n",
       "    .dataframe tbody tr th {\n",
       "        vertical-align: top;\n",
       "    }\n",
       "\n",
       "    .dataframe thead th {\n",
       "        text-align: right;\n",
       "    }\n",
       "</style>\n",
       "<table border=\"1\" class=\"dataframe\">\n",
       "  <thead>\n",
       "    <tr style=\"text-align: right;\">\n",
       "      <th></th>\n",
       "      <th>Actual</th>\n",
       "      <th>Predicted</th>\n",
       "      <th>Error</th>\n",
       "    </tr>\n",
       "  </thead>\n",
       "  <tbody>\n",
       "    <tr>\n",
       "      <th>0</th>\n",
       "      <td>0.0</td>\n",
       "      <td>81.309364</td>\n",
       "      <td>-81.309364</td>\n",
       "    </tr>\n",
       "    <tr>\n",
       "      <th>1</th>\n",
       "      <td>76.5</td>\n",
       "      <td>80.662407</td>\n",
       "      <td>-4.162407</td>\n",
       "    </tr>\n",
       "    <tr>\n",
       "      <th>2</th>\n",
       "      <td>68.0</td>\n",
       "      <td>81.083221</td>\n",
       "      <td>-13.083221</td>\n",
       "    </tr>\n",
       "    <tr>\n",
       "      <th>3</th>\n",
       "      <td>76.5</td>\n",
       "      <td>79.072426</td>\n",
       "      <td>-2.572426</td>\n",
       "    </tr>\n",
       "    <tr>\n",
       "      <th>4</th>\n",
       "      <td>76.5</td>\n",
       "      <td>84.813316</td>\n",
       "      <td>-8.313316</td>\n",
       "    </tr>\n",
       "  </tbody>\n",
       "</table>\n",
       "</div>"
      ],
      "text/plain": [
       "   Actual  Predicted      Error\n",
       "0     0.0  81.309364 -81.309364\n",
       "1    76.5  80.662407  -4.162407\n",
       "2    68.0  81.083221 -13.083221\n",
       "3    76.5  79.072426  -2.572426\n",
       "4    76.5  84.813316  -8.313316"
      ]
     },
     "execution_count": 35,
     "metadata": {},
     "output_type": "execute_result"
    }
   ],
   "source": [
    "results_df = pd.DataFrame({'Actual': test_targets.numpy().flatten(),\n",
    "                          'Predicted': test_predictions.flatten(), 'Error':\n",
    "                              test_targets.numpy().flatten() -\n",
    "                              test_predictions.flatten()})\n",
    "\n",
    "results_df.head(5)\n"
   ]
  },
  {
   "cell_type": "code",
   "execution_count": 36,
   "metadata": {},
   "outputs": [],
   "source": [
    "\n",
    "\n",
    "pathlib.Path('./results/').mkdir(\n",
    "    parents=True, exist_ok=True)\n",
    "RESULTS_DIR = pathlib.Path('./results/')\n",
    "\n",
    "\n",
    "results_df.to_csv(os.path.join(RESULTS_DIR, 'Results.csv'), index=False)\n"
   ]
  },
  {
   "cell_type": "markdown",
   "metadata": {},
   "source": [
    "## Select feature Using Random Forest"
   ]
  },
  {
   "cell_type": "code",
   "execution_count": 30,
   "metadata": {},
   "outputs": [
    {
     "data": {
      "text/plain": [
       "RandomForestRegressor(random_state=20)"
      ]
     },
     "execution_count": 30,
     "metadata": {},
     "output_type": "execute_result"
    }
   ],
   "source": [
    "rfr = RandomForestRegressor(random_state=20)\n",
    "rfr.fit(train_data_pd, train_targets_pd)"
   ]
  },
  {
   "cell_type": "code",
   "execution_count": 37,
   "metadata": {},
   "outputs": [
    {
     "data": {
      "image/png": "[encoded data removed]",
      "text/plain": [
       "<Figure size 432x288 with 1 Axes>"
      ]
     },
     "metadata": {
      "needs_background": "light"
     },
     "output_type": "display_data"
    }
   ],
   "source": [
    "\n",
    "\n",
    "f_i = list(zip(train_data_pd.columns, rfr.feature_importances_))[:]\n",
    "f_i.sort(key=lambda x: x[1])\n",
    "plt.barh([x[0] for x in f_i[-20:]], [x[1] for x in f_i[-20:]])\n",
    "\n",
    "plt.show()"
   ]
  },
  {
   "cell_type": "code",
   "execution_count": 38,
   "metadata": {},
   "outputs": [],
   "source": [
    "\n",
    "\n",
    "selected_features_train = [x[0] for x in f_i if x[1] >= 0.005]\n",
    "\n",
    "train_data = tf.convert_to_tensor(train_data_pd[selected_features_train].values,\n",
    "                                  dtype=tf.float32)\n",
    "test_data = tf.convert_to_tensor(test_data_pd[selected_features_train].values,\n",
    "                                 dtype=tf.float32)\n"
   ]
  },
  {
   "cell_type": "code",
   "execution_count": 39,
   "metadata": {},
   "outputs": [
    {
     "name": "stdout",
     "output_type": "stream",
     "text": [
      "(40060, 19) (79330, 19)\n"
     ]
    }
   ],
   "source": [
    "print(train_data.shape,test_data.shape)"
   ]
  },
  {
   "cell_type": "markdown",
   "metadata": {},
   "source": [
    "### normalization "
   ]
  },
  {
   "cell_type": "code",
   "execution_count": 40,
   "metadata": {},
   "outputs": [],
   "source": [
    "normalization()"
   ]
  },
  {
   "cell_type": "code",
   "execution_count": 43,
   "metadata": {},
   "outputs": [
    {
     "name": "stdout",
     "output_type": "stream",
     "text": [
      "Model: \"functional_11\"\n",
      "_________________________________________________________________\n",
      "Layer (type)                 Output Shape              Param #   \n",
      "=================================================================\n",
      "input_6 (InputLayer)         [(None, 19)]              0         \n",
      "_________________________________________________________________\n",
      "dense_20 (Dense)             (None, 140)               2800      \n",
      "_________________________________________________________________\n",
      "dense_21 (Dense)             (None, 150)               21150     \n",
      "_________________________________________________________________\n",
      "dropout_10 (Dropout)         (None, 150)               0         \n",
      "_________________________________________________________________\n",
      "dense_22 (Dense)             (None, 160)               24160     \n",
      "_________________________________________________________________\n",
      "dropout_11 (Dropout)         (None, 160)               0         \n",
      "_________________________________________________________________\n",
      "dense_23 (Dense)             (None, 1)                 161       \n",
      "=================================================================\n",
      "Total params: 48,271\n",
      "Trainable params: 48,271\n",
      "Non-trainable params: 0\n",
      "_________________________________________________________________\n",
      "Epoch 1/30\n",
      "501/501 [==============================] - 1s 2ms/step - loss: 404.8245 - mean_absolute_error: 13.1300 - val_loss: 602.8231 - val_mean_absolute_error: 16.5822\n",
      "Epoch 2/30\n",
      "501/501 [==============================] - 1s 2ms/step - loss: 398.0593 - mean_absolute_error: 13.1092 - val_loss: 694.2668 - val_mean_absolute_error: 17.4804\n",
      "Epoch 3/30\n",
      "501/501 [==============================] - 1s 2ms/step - loss: 398.7994 - mean_absolute_error: 13.0252 - val_loss: 665.9582 - val_mean_absolute_error: 17.3313\n",
      "Epoch 4/30\n",
      "501/501 [==============================] - 1s 2ms/step - loss: 400.6017 - mean_absolute_error: 13.0352 - val_loss: 588.1401 - val_mean_absolute_error: 16.2284\n",
      "Epoch 5/30\n",
      "501/501 [==============================] - 1s 2ms/step - loss: 394.1333 - mean_absolute_error: 12.9503 - val_loss: 603.6868 - val_mean_absolute_error: 16.4579\n",
      "Epoch 6/30\n",
      "501/501 [==============================] - 1s 2ms/step - loss: 391.0841 - mean_absolute_error: 12.8661 - val_loss: 621.5981 - val_mean_absolute_error: 16.6613\n",
      "Epoch 7/30\n",
      "501/501 [==============================] - 1s 2ms/step - loss: 382.6211 - mean_absolute_error: 12.8576 - val_loss: 674.0139 - val_mean_absolute_error: 17.1062\n",
      "Epoch 8/30\n",
      "501/501 [==============================] - 1s 2ms/step - loss: 378.0857 - mean_absolute_error: 12.8248 - val_loss: 627.0620 - val_mean_absolute_error: 16.7279\n",
      "Epoch 9/30\n",
      "501/501 [==============================] - 1s 2ms/step - loss: 376.2223 - mean_absolute_error: 12.7638 - val_loss: 608.0593 - val_mean_absolute_error: 16.7054\n",
      "Epoch 10/30\n",
      "501/501 [==============================] - 1s 2ms/step - loss: 383.2364 - mean_absolute_error: 12.7986 - val_loss: 590.3509 - val_mean_absolute_error: 16.3149\n",
      "Epoch 11/30\n",
      "501/501 [==============================] - 1s 2ms/step - loss: 370.5079 - mean_absolute_error: 12.6480 - val_loss: 582.5619 - val_mean_absolute_error: 16.2268\n",
      "Epoch 12/30\n",
      "501/501 [==============================] - 1s 2ms/step - loss: 366.2926 - mean_absolute_error: 12.6165 - val_loss: 625.1475 - val_mean_absolute_error: 16.6760\n",
      "Epoch 13/30\n",
      "501/501 [==============================] - 1s 2ms/step - loss: 365.1521 - mean_absolute_error: 12.5913 - val_loss: 572.8624 - val_mean_absolute_error: 16.0461\n",
      "Epoch 14/30\n",
      "501/501 [==============================] - 1s 2ms/step - loss: 363.6494 - mean_absolute_error: 12.5566 - val_loss: 571.0294 - val_mean_absolute_error: 16.0942\n",
      "Epoch 15/30\n",
      "501/501 [==============================] - 1s 2ms/step - loss: 362.5179 - mean_absolute_error: 12.5057 - val_loss: 574.9205 - val_mean_absolute_error: 16.0796\n",
      "Epoch 16/30\n",
      "501/501 [==============================] - 1s 2ms/step - loss: 358.0310 - mean_absolute_error: 12.4794 - val_loss: 648.1801 - val_mean_absolute_error: 17.0813\n",
      "Epoch 17/30\n",
      "501/501 [==============================] - 1s 2ms/step - loss: 360.5526 - mean_absolute_error: 12.4683 - val_loss: 590.3608 - val_mean_absolute_error: 16.1350\n",
      "Epoch 18/30\n",
      "501/501 [==============================] - 1s 2ms/step - loss: 358.1686 - mean_absolute_error: 12.4089 - val_loss: 606.6884 - val_mean_absolute_error: 16.9059\n",
      "Epoch 19/30\n",
      "501/501 [==============================] - 1s 2ms/step - loss: 355.7461 - mean_absolute_error: 12.3867 - val_loss: 568.7870 - val_mean_absolute_error: 16.0707\n",
      "Epoch 20/30\n",
      "501/501 [==============================] - 1s 2ms/step - loss: 351.0820 - mean_absolute_error: 12.2897 - val_loss: 584.8417 - val_mean_absolute_error: 16.2242\n",
      "Epoch 21/30\n",
      "501/501 [==============================] - 1s 2ms/step - loss: 349.9959 - mean_absolute_error: 12.2406 - val_loss: 563.1610 - val_mean_absolute_error: 15.9725\n",
      "Epoch 22/30\n",
      "501/501 [==============================] - 1s 2ms/step - loss: 348.5384 - mean_absolute_error: 12.2489 - val_loss: 557.0485 - val_mean_absolute_error: 15.8393\n",
      "Epoch 23/30\n",
      "501/501 [==============================] - 1s 2ms/step - loss: 348.7200 - mean_absolute_error: 12.2246 - val_loss: 570.8206 - val_mean_absolute_error: 16.0174\n",
      "Epoch 24/30\n",
      "501/501 [==============================] - 1s 2ms/step - loss: 347.3612 - mean_absolute_error: 12.2275 - val_loss: 563.6926 - val_mean_absolute_error: 16.0492\n",
      "Epoch 25/30\n",
      "501/501 [==============================] - 1s 2ms/step - loss: 342.1477 - mean_absolute_error: 12.1788 - val_loss: 666.0534 - val_mean_absolute_error: 17.3437\n",
      "Epoch 26/30\n",
      "501/501 [==============================] - 1s 2ms/step - loss: 346.2580 - mean_absolute_error: 12.1981 - val_loss: 618.7069 - val_mean_absolute_error: 16.5991\n",
      "Epoch 27/30\n",
      "501/501 [==============================] - 1s 2ms/step - loss: 342.6270 - mean_absolute_error: 12.1204 - val_loss: 602.8353 - val_mean_absolute_error: 16.4710\n",
      "Epoch 28/30\n",
      "501/501 [==============================] - 1s 2ms/step - loss: 334.6697 - mean_absolute_error: 12.0298 - val_loss: 596.2639 - val_mean_absolute_error: 16.5264\n",
      "Epoch 29/30\n",
      "501/501 [==============================] - 1s 2ms/step - loss: 340.2549 - mean_absolute_error: 12.0820 - val_loss: 604.2429 - val_mean_absolute_error: 16.4968\n",
      "Epoch 30/30\n",
      "501/501 [==============================] - 1s 2ms/step - loss: 336.5792 - mean_absolute_error: 12.0267 - val_loss: 592.9229 - val_mean_absolute_error: 16.3077\n"
     ]
    }
   ],
   "source": [
    "callbacks = [\n",
    "    keras.callbacks.ModelCheckpoint(\n",
    "        filepath=os.path.join(MODELS_DIR,\n",
    "                              'architecute_with_featureselection.keras'),\n",
    "        save_best_only=True,\n",
    "        monitor='val_loss')]\n",
    "model_builder()\n",
    "model.summary()\n",
    "history = model.fit(train_data, train_targets, validation_split=0.2, epochs=30,\n",
    "                    batch_size=64, callbacks=callbacks)\n"
   ]
  },
  {
   "cell_type": "code",
   "execution_count": 44,
   "metadata": {},
   "outputs": [
    {
     "name": "stdout",
     "output_type": "stream",
     "text": [
      "2480/2480 [==============================] - 1s 532us/step - loss: 2838.0940 - mean_absolute_error: 41.8306\n"
     ]
    }
   ],
   "source": [
    "model = keras.models.load_model(os.path.join(\n",
    "    MODELS_DIR, 'architecute_with_featureselection.keras'))\n",
    "\n",
    "test_predictions = model.predict(test_data)\n",
    "\n",
    "test_mse_score, test_mae_score = model.evaluate(test_data, test_targets)"
   ]
  },
  {
   "cell_type": "code",
   "execution_count": 45,
   "metadata": {},
   "outputs": [],
   "source": [
    "results_df.to_csv(os.path.join(RESULTS_DIR, 'SelectedResults.csv'), index=False)\n"
   ]
  },
  {
   "cell_type": "code",
   "execution_count": null,
   "metadata": {},
   "outputs": [],
   "source": []
  }
 ],
 "metadata": {
  "kernelspec": {
   "display_name": "Python 3",
   "language": "python",
   "name": "python3"
  },
  "language_info": {
   "codemirror_mode": {
    "name": "ipython",
    "version": 3
   },
   "file_extension": ".py",
   "mimetype": "text/x-python",
   "name": "python",
   "nbconvert_exporter": "python",
   "pygments_lexer": "ipython3",
   "version": "3.8.8"
  },
  "vscode": {
   "interpreter": {
    "hash": "ebeff0bc52a96863f1efb0edd7b2c4c1c6a58da5e5b97a93057c59d7293164cc"
   }
  }
 },
 "nbformat": 4,
 "nbformat_minor": 2
}
